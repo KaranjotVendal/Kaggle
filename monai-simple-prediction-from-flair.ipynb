{
 "cells": [
  {
   "cell_type": "code",
   "execution_count": null,
   "metadata": {
    "execution": {
     "iopub.execute_input": "2021-09-11T15:22:16.083707Z",
     "iopub.status.busy": "2021-09-11T15:22:16.083185Z",
     "iopub.status.idle": "2021-09-11T15:22:42.619Z",
     "shell.execute_reply": "2021-09-11T15:22:42.618066Z",
     "shell.execute_reply.started": "2021-09-11T15:22:16.08362Z"
    }
   },
   "outputs": [],
   "source": [
    "#pip install '../input/rsna-monai-packages/monai-0.6.0-202107081903-py3-none-any.whl'"
   ]
  },
  {
   "cell_type": "code",
   "execution_count": null,
   "metadata": {
    "_cell_guid": "b1076dfc-b9ad-4769-8c92-a6c4dae69d19",
    "_uuid": "8f2839f25d086af736a60e9eeb907d3b93b6e0e5",
    "execution": {
     "iopub.execute_input": "2021-09-11T15:22:42.62186Z",
     "iopub.status.busy": "2021-09-11T15:22:42.621453Z",
     "iopub.status.idle": "2021-09-11T15:22:43.033222Z",
     "shell.execute_reply": "2021-09-11T15:22:43.032369Z",
     "shell.execute_reply.started": "2021-09-11T15:22:42.621812Z"
    }
   },
   "outputs": [],
   "source": [
    "import pandas as pd\n",
    "import numpy as np\n",
    "from tqdm import tqdm\n",
    "import os\n",
    "\n",
    "#import pydicom\n",
    "#from pydicom.pixel_data_handlers.util import apply_voi_lut\n",
    "\n",
    "from sklearn.model_selection import StratifiedKFold\n",
    "from sklearn.metrics import roc_auc_score\n",
    "import glob"
   ]
  },
  {
   "cell_type": "code",
   "execution_count": null,
   "metadata": {
    "execution": {
     "iopub.execute_input": "2021-09-11T15:22:43.03662Z",
     "iopub.status.busy": "2021-09-11T15:22:43.036052Z",
     "iopub.status.idle": "2021-09-11T15:22:43.812055Z",
     "shell.execute_reply": "2021-09-11T15:22:43.811201Z",
     "shell.execute_reply.started": "2021-09-11T15:22:43.036576Z"
    }
   },
   "outputs": [],
   "source": [
    "import albumentations as A\n",
    "import pandas as pd\n",
    "import numpy as np\n",
    "import torch\n",
    "import torch.nn as nn\n",
    "import torch.optim as optim\n",
    "from albumentations.pytorch import ToTensorV2\n",
    "from sklearn.metrics import roc_auc_score\n",
    "from torch.optim import lr_scheduler\n",
    "from tqdm import tqdm\n",
    "import re"
   ]
  },
  {
   "cell_type": "code",
   "execution_count": null,
   "metadata": {
    "execution": {
     "iopub.execute_input": "2021-09-11T15:22:43.813735Z",
     "iopub.status.busy": "2021-09-11T15:22:43.813383Z",
     "iopub.status.idle": "2021-09-11T15:22:43.820767Z",
     "shell.execute_reply": "2021-09-11T15:22:43.819933Z",
     "shell.execute_reply.started": "2021-09-11T15:22:43.813699Z"
    }
   },
   "outputs": [],
   "source": [
    "NUM_IMAGES_3D = 64\n",
    "TRAINING_BATCH_SIZE = 8\n",
    "TEST_BATCH_SIZE = 8\n",
    "IMAGE_SIZE = 256\n",
    "N_EPOCHS = 15\n",
    "do_valid = True\n",
    "n_workers = 4\n",
    "type_ = \"T1wCE\""
   ]
  },
  {
   "cell_type": "code",
   "execution_count": null,
   "metadata": {
    "execution": {
     "iopub.execute_input": "2021-09-11T15:22:43.822702Z",
     "iopub.status.busy": "2021-09-11T15:22:43.822018Z",
     "iopub.status.idle": "2021-09-11T15:22:43.82991Z",
     "shell.execute_reply": "2021-09-11T15:22:43.828849Z",
     "shell.execute_reply.started": "2021-09-11T15:22:43.822663Z"
    }
   },
   "outputs": [],
   "source": [
    "def load_dicom_image(path, img_size=IMAGE_SIZE, voi_lut=True, rotate=0):\n",
    "    dicom = pydicom.read_file(path)\n",
    "    data = dicom.pixel_array\n",
    "    if voi_lut:\n",
    "        data = apply_voi_lut(dicom.pixel_array, dicom)\n",
    "    else:\n",
    "        data = dicom.pixel_array\n",
    "\n",
    "    if rotate > 0:\n",
    "        rot_choices = [\n",
    "            0,\n",
    "            cv2.ROTATE_90_CLOCKWISE,\n",
    "            cv2.ROTATE_90_COUNTERCLOCKWISE,\n",
    "            cv2.ROTATE_180,\n",
    "        ]\n",
    "        data = cv2.rotate(data, rot_choices[rotate])\n",
    "\n",
    "    data = cv2.resize(data, (img_size, img_size))\n",
    "    return data"
   ]
  },
  {
   "cell_type": "code",
   "execution_count": null,
   "metadata": {
    "execution": {
     "iopub.execute_input": "2021-09-11T15:22:43.831929Z",
     "iopub.status.busy": "2021-09-11T15:22:43.831274Z",
     "iopub.status.idle": "2021-09-11T15:22:43.847348Z",
     "shell.execute_reply": "2021-09-11T15:22:43.846481Z",
     "shell.execute_reply.started": "2021-09-11T15:22:43.831887Z"
    }
   },
   "outputs": [],
   "source": [
    "import random\n",
    "\n",
    "import cv2\n",
    "from torch.utils.data import Dataset\n",
    "\n",
    "\n",
    "class BrainRSNADataset(Dataset):\n",
    "    def __init__(\n",
    "        self, data, transform=None, target=\"MGMT_value\", mri_type=\"FLAIR\", is_train=True\n",
    "    ):\n",
    "        self.target = target\n",
    "        self.data = data\n",
    "        self.type = mri_type\n",
    "\n",
    "        self.transform = transform\n",
    "        self.is_train = is_train\n",
    "        self.folder = \"train\" if self.is_train else \"test\"\n",
    "\n",
    "    def __len__(self):\n",
    "        return len(self.data)\n",
    "\n",
    "    def __getitem__(self, index):\n",
    "        row = self.data.loc[index]\n",
    "        case_id = int(row.BraTS21ID)\n",
    "        target = int(row[self.target])\n",
    "        _3d_images = self.load_dicom_images_3d(case_id)\n",
    "        _3d_images = torch.tensor(_3d_images).float()\n",
    "        if self.is_train:\n",
    "            return {\"image\": _3d_images, \"target\": target}\n",
    "        else:\n",
    "            return {\"image\": _3d_images, \"case_id\": case_id}\n",
    "\n",
    "    def load_dicom_images_3d(\n",
    "        self,\n",
    "        case_id,\n",
    "        num_imgs=NUM_IMAGES_3D,\n",
    "        img_size=IMAGE_SIZE,\n",
    "        rotate=0,\n",
    "    ):\n",
    "        case_id = str(case_id).zfill(5)\n",
    "\n",
    "        path = f\"../input/rsna-miccai-brain-tumor-radiogenomic-classification/{self.folder}/{case_id}/{self.type}/*.dcm\"\n",
    "        files = sorted(\n",
    "            glob.glob(path),\n",
    "            key=lambda var: [\n",
    "                int(x) if x.isdigit() else x for x in re.findall(r\"[^0-9]|[0-9]+\", var)\n",
    "            ],\n",
    "        )\n",
    "\n",
    "        middle = len(files) // 2\n",
    "        num_imgs2 = num_imgs // 2\n",
    "        p1 = max(0, middle - num_imgs2)\n",
    "        p2 = min(len(files), middle + num_imgs2)\n",
    "        image_stack = [load_dicom_image(f, rotate=rotate) for f in files[p1:p2]]\n",
    "        \n",
    "        img3d = np.stack(image_stack).T\n",
    "        if img3d.shape[-1] < num_imgs:\n",
    "            n_zero = np.zeros((img_size, img_size, num_imgs - img3d.shape[-1]))\n",
    "            img3d = np.concatenate((img3d, n_zero), axis=-1)\n",
    "\n",
    "        if np.min(img3d) < np.max(img3d):\n",
    "            img3d = img3d - np.min(img3d)\n",
    "            img3d = img3d / np.max(img3d)\n",
    "\n",
    "        return np.expand_dims(img3d, 0)\n",
    "\n"
   ]
  },
  {
   "cell_type": "code",
   "execution_count": null,
   "metadata": {
    "execution": {
     "iopub.execute_input": "2021-09-11T15:22:43.848907Z",
     "iopub.status.busy": "2021-09-11T15:22:43.848542Z",
     "iopub.status.idle": "2021-09-11T15:22:44.500441Z",
     "shell.execute_reply": "2021-09-11T15:22:44.499312Z",
     "shell.execute_reply.started": "2021-09-11T15:22:43.848869Z"
    }
   },
   "outputs": [],
   "source": [
    "ls ../input/"
   ]
  },
  {
   "cell_type": "code",
   "execution_count": null,
   "metadata": {
    "execution": {
     "iopub.execute_input": "2021-09-11T15:22:44.505039Z",
     "iopub.status.busy": "2021-09-11T15:22:44.504732Z",
     "iopub.status.idle": "2021-09-11T15:22:47.472053Z",
     "shell.execute_reply": "2021-09-11T15:22:47.471118Z",
     "shell.execute_reply.started": "2021-09-11T15:22:44.505003Z"
    }
   },
   "outputs": [],
   "source": [
    "import monai\n",
    "\n",
    "# model \n",
    "model = monai.networks.nets.resnet10(spatial_dims=3, n_input_channels=1, n_classes=1)\n",
    "device = torch.device(\"cuda\")\n",
    "model.to(device);\n",
    "all_weights = os.listdir(\"../input/resnet10rsna\")\n",
    "fold_files = [f for f in all_weights if type_ in f]\n",
    "criterion = nn.BCEWithLogitsLoss()"
   ]
  },
  {
   "cell_type": "code",
   "execution_count": null,
   "metadata": {},
   "outputs": [],
   "source": [
    "fold_files"
   ]
  },
  {
   "cell_type": "code",
   "execution_count": null,
   "metadata": {
    "execution": {
     "iopub.execute_input": "2021-09-11T15:22:47.473911Z",
     "iopub.status.busy": "2021-09-11T15:22:47.473534Z",
     "iopub.status.idle": "2021-09-11T15:22:47.483292Z",
     "shell.execute_reply": "2021-09-11T15:22:47.482529Z",
     "shell.execute_reply.started": "2021-09-11T15:22:47.473869Z"
    }
   },
   "outputs": [],
   "source": [
    "sample = pd.read_csv(\"../input/rsna-miccai-brain-tumor-radiogenomic-classification/sample_submission.csv\")"
   ]
  },
  {
   "cell_type": "code",
   "execution_count": null,
   "metadata": {
    "execution": {
     "iopub.execute_input": "2021-09-11T15:22:47.485124Z",
     "iopub.status.busy": "2021-09-11T15:22:47.484583Z",
     "iopub.status.idle": "2021-09-11T15:24:44.693295Z",
     "shell.execute_reply": "2021-09-11T15:24:44.692259Z",
     "shell.execute_reply.started": "2021-09-11T15:22:47.485084Z"
    }
   },
   "outputs": [],
   "source": [
    "tta_true_labels = []\n",
    "tta_preds = []\n",
    "test_dataset = BrainRSNADataset(data=sample, mri_type=type_, is_train=False)\n",
    "test_dl = torch.utils.data.DataLoader(\n",
    "        test_dataset, batch_size=8, shuffle=False, num_workers=4\n",
    "    )\n",
    "\n",
    "preds_f = np.zeros(len(sample))\n",
    "for fold in range(5):\n",
    "    image_ids = []\n",
    "    model.load_state_dict(torch.load(f\"../input/resnet10rsna/{fold_files[fold]}\"))\n",
    "    preds = []\n",
    "    epoch_iterator_test = tqdm(test_dl)\n",
    "    with torch.no_grad():\n",
    "        for  step, batch in enumerate(epoch_iterator_test):\n",
    "            model.eval()\n",
    "            images = batch[\"image\"].to(device)\n",
    "\n",
    "            outputs = model(images)\n",
    "            preds.append(outputs.sigmoid().detach().cpu().numpy())\n",
    "            image_ids.append(batch[\"case_id\"].detach().cpu().numpy())\n",
    "    \n",
    "\n",
    "    preds_f += np.vstack(preds).T[0]/5\n",
    "\n",
    "    ids_f = np.hstack(image_ids)"
   ]
  },
  {
   "cell_type": "code",
   "execution_count": null,
   "metadata": {
    "execution": {
     "iopub.execute_input": "2021-09-11T15:27:04.502045Z",
     "iopub.status.busy": "2021-09-11T15:27:04.50161Z",
     "iopub.status.idle": "2021-09-11T15:27:04.507949Z",
     "shell.execute_reply": "2021-09-11T15:27:04.507001Z",
     "shell.execute_reply.started": "2021-09-11T15:27:04.502007Z"
    }
   },
   "outputs": [],
   "source": [
    "sample[\"BraTS21ID\"] = ids_f\n",
    "sample[\"MGMT_value\"] = preds_f"
   ]
  },
  {
   "cell_type": "code",
   "execution_count": null,
   "metadata": {
    "execution": {
     "iopub.execute_input": "2021-09-11T15:27:04.830376Z",
     "iopub.status.busy": "2021-09-11T15:27:04.830024Z",
     "iopub.status.idle": "2021-09-11T15:27:04.837301Z",
     "shell.execute_reply": "2021-09-11T15:27:04.836396Z",
     "shell.execute_reply.started": "2021-09-11T15:27:04.830342Z"
    }
   },
   "outputs": [],
   "source": [
    "sample = sample.sort_values(by=\"BraTS21ID\").reset_index(drop=True)"
   ]
  },
  {
   "cell_type": "code",
   "execution_count": null,
   "metadata": {
    "execution": {
     "iopub.execute_input": "2021-09-11T15:27:05.101578Z",
     "iopub.status.busy": "2021-09-11T15:27:05.095075Z",
     "iopub.status.idle": "2021-09-11T15:27:05.117319Z",
     "shell.execute_reply": "2021-09-11T15:27:05.11615Z",
     "shell.execute_reply.started": "2021-09-11T15:27:05.101519Z"
    }
   },
   "outputs": [],
   "source": [
    "sample.to_csv(\"submission.csv\", index=False)"
   ]
  },
  {
   "cell_type": "code",
   "execution_count": null,
   "metadata": {},
   "outputs": [],
   "source": [
    "sample"
   ]
  },
  {
   "cell_type": "code",
   "execution_count": null,
   "metadata": {},
   "outputs": [],
   "source": []
  }
 ],
 "metadata": {
  "kernelspec": {
   "display_name": "Python 3 (ipykernel)",
   "language": "python",
   "name": "python3"
  },
  "language_info": {
   "codemirror_mode": {
    "name": "ipython",
    "version": 3
   },
   "file_extension": ".py",
   "mimetype": "text/x-python",
   "name": "python",
   "nbconvert_exporter": "python",
   "pygments_lexer": "ipython3",
   "version": "3.11.4"
  }
 },
 "nbformat": 4,
 "nbformat_minor": 4
}
